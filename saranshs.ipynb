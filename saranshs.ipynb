{
 "cells": [
  {
   "cell_type": "markdown",
   "metadata": {},
   "source": [
    "# COMP90051 Project 2"
   ]
  },
  {
   "cell_type": "code",
   "execution_count": 37,
   "metadata": {},
   "outputs": [],
   "source": [
    "# Do not edit. These are the only imports permitted.\n",
    "%matplotlib inline\n",
    "import numpy as np\n",
    "from numpy.linalg import inv\n",
    "import matplotlib.pyplot as plt\n",
    "from abc import ABC, abstractmethod"
   ]
  },
  {
   "cell_type": "markdown",
   "metadata": {},
   "source": [
    "## 1. Implementing ε-Greedy and UCB"
   ]
  },
  {
   "cell_type": "code",
   "execution_count": 38,
   "metadata": {},
   "outputs": [],
   "source": [
    "class MAB(ABC):\n",
    "    \"\"\"\n",
    "    Abstract class that represents a multi-armed bandit (MAB)\n",
    "    \"\"\"\n",
    "    \n",
    "    @abstractmethod\n",
    "    def play(self, tround, context):\n",
    "        \"\"\"\n",
    "        Play a round\n",
    "        \n",
    "        Arguments\n",
    "        =========\n",
    "        tround : int\n",
    "            positive integer identifying the round\n",
    "        \n",
    "        context : 1D float array, shape (self.ndims * self.narms), optional\n",
    "            context given to the arms\n",
    "        \n",
    "        Returns\n",
    "        =======\n",
    "        arm : int\n",
    "            the positive integer arm id for this round\n",
    "        \"\"\"\n",
    "    \n",
    "    @abstractmethod\n",
    "    def update(self, arm, reward, context):\n",
    "        \"\"\"\n",
    "        Updates the internal state of the MAB after a play\n",
    "        \n",
    "        Arguments\n",
    "        =========\n",
    "        arm : int\n",
    "            a positive integer arm id in {1, ..., self.narms}\n",
    "        \n",
    "        reward : float\n",
    "            reward received from arm\n",
    "        \n",
    "        context : 1D float array, shape (self.ndims * self.narms), optional\n",
    "            context given to arms\n",
    "        \"\"\""
   ]
  },
  {
   "cell_type": "code",
   "execution_count": 39,
   "metadata": {},
   "outputs": [],
   "source": [
    "class EpsGreedy(MAB):\n",
    "    \"\"\"\n",
    "    Epsilon-Greedy multi-armed bandit\n",
    "\n",
    "    Arguments\n",
    "    =========\n",
    "    narms : int\n",
    "        number of arms\n",
    "\n",
    "    epsilon : float\n",
    "        explore probability\n",
    "\n",
    "    Q0 : float, optional\n",
    "        initial value for the arms\n",
    "    \"\"\"\n",
    "    \n",
    "    def __init__(self, narms, epsilon, Q0=np.inf):\n",
    "        if (narms<1):\n",
    "            raise ValueError(\"Arms are too less!\")\n",
    "        if (epsilon>1 or epsilon<0):\n",
    "            raise ValueError(\"Probability should be in 0-1\")\n",
    "        self.narms = int(narms)\n",
    "        self.K = np.zeros(self.narms)\n",
    "        self.epsilon = epsilon\n",
    "        self.est_value = np.full(self.narms,Q0)\n",
    "        self.tot_reward = np.zeros(self.narms)\n",
    "        \n",
    "    def play(self, tround, context=None):\n",
    "        rand_num = np.random.random()\n",
    "        if self.epsilon > rand_num:\n",
    "            return np.random.randint(self.narms)\n",
    "        else:\n",
    "            # Tie break among eligible max values\n",
    "            return np.random.choice(np.flatnonzero(self.est_value == self.est_value.max()))        \n",
    "        \n",
    "    def update(self, arm, reward, context=None):\n",
    "        self.K[arm] += 1\n",
    "        self.tot_reward[arm] += reward\n",
    "        if self.est_value[arm] != np.inf:\n",
    "            self.est_value[arm] = self.tot_reward[arm] / self.K[arm]\n",
    "        else:\n",
    "            self.est_value[arm] = self.tot_reward[arm] / self.K[arm]"
   ]
  },
  {
   "cell_type": "code",
   "execution_count": 40,
   "metadata": {},
   "outputs": [],
   "source": [
    "class UCB(MAB):\n",
    "    \"\"\"\n",
    "    Upper Confidence Bound (UCB) multi-armed bandit\n",
    "\n",
    "    Arguments\n",
    "    =========\n",
    "    narms : int\n",
    "        number of arms\n",
    "\n",
    "    rho : float\n",
    "        positive real explore-exploit parameter\n",
    "\n",
    "    Q0 : float, optional\n",
    "        initial value for the arms\n",
    "    \"\"\"\n",
    "    \n",
    "    def __init__(self, narms, rho, Q0=np.inf):\n",
    "        if (narms<1):\n",
    "            raise ValueError(\"Arms are too less!\")\n",
    "        if (rho <= 0):\n",
    "            raise ValueError(\"Rho should be a positive value\")\n",
    "        self.narms = int(narms)\n",
    "        self.K = np.zeros( self.narms)\n",
    "        self.rho = rho\n",
    "        self.est_value = np.full( self.narms,Q0)\n",
    "        self.ucb = np.zeros( self.narms)\n",
    "        self.tot_reward = np.zeros( self.narms)\n",
    "        \n",
    "    def play(self, tround, context=None):\n",
    "        self.tround = tround\n",
    "        # Tie break among eligible max values           \n",
    "        return  np.random.choice(np.flatnonzero(self.est_value == self.est_value.max()))        \n",
    "        \n",
    "        \n",
    "    def update(self, arm, reward, context=None):\n",
    "        self.K[arm] += 1\n",
    "        self.tot_reward[arm] += reward\n",
    "        self.ucb[arm] = np.sqrt((self.rho * np.log(self.tround))/self.K[arm])\n",
    "\n",
    "        if self.est_value[arm] != np.inf:\n",
    "            self.est_value[arm] = self.ucb[arm] + (self.tot_reward[arm]/self.K[arm])\n",
    "        else:\n",
    "            self.est_value[arm] = self.ucb[arm] + (self.tot_reward[arm] / self.K[arm])\n",
    "\n",
    "        \n",
    "    "
   ]
  },
  {
   "cell_type": "markdown",
   "metadata": {},
   "source": [
    "## 2. The Basic Thompson Bandit"
   ]
  },
  {
   "cell_type": "code",
   "execution_count": 41,
   "metadata": {},
   "outputs": [],
   "source": [
    "class BetaThompson(MAB):\n",
    "    \"\"\"\n",
    "    Beta-Bernoulli Thompson sampling multi-armed bandit\n",
    "\n",
    "    Arguments\n",
    "    =========\n",
    "    narms : int\n",
    "        number of arms\n",
    "\n",
    "    alpha0 : float, optional\n",
    "        positive real prior hyperparameter\n",
    "\n",
    "    beta0 : float, optional\n",
    "        positive real prior hyperparameter\n",
    "    \"\"\"\n",
    "    \n",
    "    def __init__(self, narms, alpha0=1.0, beta0=1.0):\n",
    "        if (narms<1):\n",
    "            raise ValueError(\"Arms are too less!\")\n",
    "        if (alpha0 <= 0):\n",
    "            raise ValueError(\"alpha0 should be positive\")\n",
    "        if (beta0 <= 0):\n",
    "            raise ValueError(\"beta0 should be positive\")\n",
    "        self.narms = int(narms)\n",
    "        self.S_arm = np.full(self.narms,alpha0)\n",
    "        self.F_arm = np.full(self.narms,beta0)\n",
    "        self.est_value = np.zeros(self.narms)\n",
    "        for i in range(self.narms):\n",
    "            self.est_value[i] = np.random.beta(self.S_arm[i] + 1,self.F_arm[i] + 1)\n",
    "    \n",
    "    def play(self, tround, context=None):\n",
    "        # Tie break among eligible max values\n",
    "        return np.random.choice(np.flatnonzero(self.est_value == self.est_value.max()))        \n",
    "        \n",
    "    def update(self, arm, reward, context=None):\n",
    "        if reward == 1:\n",
    "            self.S_arm[arm] += 1\n",
    "        else:\n",
    "            self.F_arm[arm] += 1\n",
    "        self.est_value[arm] = np.random.beta((self.S_arm[arm] + 1),(self.F_arm[arm] + 1))\n",
    "            "
   ]
  },
  {
   "cell_type": "markdown",
   "metadata": {},
   "source": [
    "## 3. Off-Policy Evaluation"
   ]
  },
  {
   "cell_type": "code",
   "execution_count": 42,
   "metadata": {},
   "outputs": [],
   "source": [
    "def offlineEvaluate(mab, arms, rewards, contexts, nrounds=None):\n",
    "    \"\"\"\n",
    "    Offline evaluation of a multi-armed bandit\n",
    "    \n",
    "    Arguments\n",
    "    =========\n",
    "    mab : instance of MAB\n",
    "    \n",
    "    arms : 1D int array, shape (nevents,) \n",
    "        integer arm id for each event\n",
    "    \n",
    "    rewards : 1D float array, shape (nevents,)\n",
    "        reward received for each event\n",
    "    \n",
    "    contexts : 2D float array, shape (nevents, mab.narms*nfeatures)\n",
    "        contexts presented to the arms (stacked horizontally) \n",
    "        for each event.\n",
    "        \n",
    "    nrounds : int, optional\n",
    "        number of matching events to evaluate `mab` on.\n",
    "    \n",
    "    Returns\n",
    "    =======\n",
    "    out : 1D float array\n",
    "        rewards for the matching events\n",
    "    \"\"\"\n",
    "    T = len(arms) #Storing the length of the events ( total number of rows in the dataset file)\n",
    "    history = []\n",
    "    for t in range(T):\n",
    "        if (nrounds!= None and len(history) > nrounds):\n",
    "            break\n",
    "        action = mab.play(len(history)+1,contexts[t])\n",
    "        if(action==arms[t]-1):\n",
    "            mab.update(action,rewards[t],contexts[t])\n",
    "            history.append(rewards[t])\n",
    "    out = np.array(history)\n",
    "    return out\n"
   ]
  },
  {
   "cell_type": "code",
   "execution_count": 43,
   "metadata": {},
   "outputs": [],
   "source": [
    "###\n",
    "## Reading files\n",
    "###\n",
    "def readData(fileName):\n",
    "    with open(fileName,'r') as f:\n",
    "        dataset =[x.strip().split(' ') for x in f]\n",
    "    n = len(dataset)\n",
    "    arms = np.zeros(n)\n",
    "    rewards = np.zeros(n)\n",
    "    contexts = []\n",
    "    for i, data in enumerate(dataset):\n",
    "        arms[i] = data[0]\n",
    "        rewards[i] = data[1]\n",
    "        contexts.append(data[2:])\n",
    "    context_arr = np.array(contexts)\n",
    "    return arms,rewards,context_arr\n",
    "\n",
    "arms,rewards,contexts = readData('dataset.txt')"
   ]
  },
  {
   "cell_type": "code",
   "execution_count": 44,
   "metadata": {
    "scrolled": true
   },
   "outputs": [
    {
     "name": "stdout",
     "output_type": "stream",
     "text": [
      "EpsGreedy average reward 0.15980024968789014\n"
     ]
    }
   ],
   "source": [
    "mab = EpsGreedy(10, 0.05)\n",
    "results_EpsGreedy = offlineEvaluate(mab, arms, rewards, contexts,800)\n",
    "print('EpsGreedy average reward', np.mean(results_EpsGreedy))"
   ]
  },
  {
   "cell_type": "code",
   "execution_count": 45,
   "metadata": {
    "scrolled": true
   },
   "outputs": [
    {
     "name": "stdout",
     "output_type": "stream",
     "text": [
      "UCB average reward 0.1760299625468165\n"
     ]
    }
   ],
   "source": [
    "mab = UCB(10, 1.0)\n",
    "results_UCB = offlineEvaluate(mab, arms, rewards, contexts, 800)\n",
    "print('UCB average reward', np.mean(results_UCB))"
   ]
  },
  {
   "cell_type": "code",
   "execution_count": 46,
   "metadata": {
    "scrolled": true
   },
   "outputs": [
    {
     "name": "stdout",
     "output_type": "stream",
     "text": [
      "BetaThompson average reward 0.2721598002496879\n"
     ]
    }
   ],
   "source": [
    "mab = BetaThompson(10, 1.0, 1.0)\n",
    "results_BetaThompson = offlineEvaluate(mab, arms, rewards, contexts, 800)\n",
    "print('BetaThompson average reward', np.mean(results_BetaThompson))"
   ]
  },
  {
   "cell_type": "markdown",
   "metadata": {},
   "source": [
    "## 4. Contextual Bandits - LinUCB"
   ]
  },
  {
   "cell_type": "code",
   "execution_count": 47,
   "metadata": {},
   "outputs": [],
   "source": [
    "class LinUCB(MAB):\n",
    "    \"\"\"\n",
    "    Contextual multi-armed bandit (LinUCB)\n",
    "\n",
    "    Arguments\n",
    "    =========\n",
    "    narms : int\n",
    "        number of arms\n",
    "\n",
    "    ndims : int\n",
    "        number of dimensions for each arm's context\n",
    "\n",
    "    alpha : float\n",
    "        positive real explore-exploit parameter\n",
    "    \"\"\"\n",
    "    \n",
    "    def __init__(self, narms, ndims, alpha):\n",
    "        if (narms<1):\n",
    "            raise ValueError(\"Arms are too less!\")\n",
    "        if (ndims<1):\n",
    "            raise ValueError(\"Dimension are too less!\")\n",
    "        if (alpha <= 0):\n",
    "            raise ValueError(\"Alpha should be positive real number\")\n",
    "        self.narms = int(narms)\n",
    "        self.ndims = int(ndims)\n",
    "        self.A_a = []\n",
    "        self.b_a = []\n",
    "        self.x_t_a = []\n",
    "        for i in range(self.narms):\n",
    "            self.A_a.append(np.eye(self.ndims))\n",
    "            self.b_a.append(np.zeros(self.ndims))\n",
    "            self.x_t_a.append(np.zeros(self.ndims))\n",
    "        self.A_a = np.array(self.A_a)\n",
    "        self.b_a = np.array(self.b_a)\n",
    "        self.x_t_a = np.array(self.x_t_a)\n",
    "        self.alpha = alpha\n",
    "        \n",
    "    \n",
    "    def play(self, tround, context):\n",
    "        est_value = np.zeros(self.narms)\n",
    "        for arm in range(self.narms):\n",
    "            self.x_t_a[arm] = context[self.ndims * arm: (self.ndims * arm) + self.ndims]\n",
    "            self.x_t_a[arm] = np.array(self.x_t_a[arm], dtype='float64')\n",
    "            theta_cap_a = np.linalg.inv(self.A_a[arm]) @ self.b_a[arm]\n",
    "            est_value[arm] = theta_cap_a.T @ self.x_t_a[arm] + (self.alpha * np.sqrt(self.x_t_a[arm].T @ np.linalg.inv(self.A_a[arm]) @ self.x_t_a[arm]))\n",
    "        return np.random.choice(np.flatnonzero(est_value == est_value.max()))    \n",
    "        \n",
    "    def update(self, arm, reward, context):\n",
    "        self.A_a[arm] = self.A_a[arm] + self.x_t_a[arm] @ self.x_t_a[arm].T\n",
    "        self.b_a[arm] = self.b_a[arm] + np.dot(reward * self.x_t_a[arm])"
   ]
  },
  {
   "cell_type": "code",
   "execution_count": 48,
   "metadata": {
    "scrolled": true
   },
   "outputs": [
    {
     "name": "stdout",
     "output_type": "stream",
     "text": [
      "LinUCB average reward 0.2671660424469413\n"
     ]
    }
   ],
   "source": [
    "mab = LinUCB(10, 10, 1.0)\n",
    "results_LinUCB = offlineEvaluate(mab, arms, rewards, contexts, 800)\n",
    "print('LinUCB average reward', np.mean(results_LinUCB))"
   ]
  },
  {
   "cell_type": "code",
   "execution_count": null,
   "metadata": {},
   "outputs": [],
   "source": []
  },
  {
   "cell_type": "markdown",
   "metadata": {},
   "source": [
    "## 5. Contextual Bandits - LinThompson"
   ]
  },
  {
   "cell_type": "code",
   "execution_count": null,
   "metadata": {},
   "outputs": [],
   "source": [
    "class LinThompson(MAB):\n",
    "    \"\"\"\n",
    "    Contextual Thompson sampled multi-armed bandit (LinThompson)\n",
    "\n",
    "    Arguments\n",
    "    =========\n",
    "    narms : int\n",
    "        number of arms\n",
    "\n",
    "    ndims : int\n",
    "        number of dimensions for each arm's context\n",
    "\n",
    "    v : float\n",
    "        positive real explore-exploit parameter\n",
    "    \"\"\"\n",
    "    \n",
    "    def __init__(self, narms, ndims, v):\n",
    "        if (narms<1):\n",
    "            raise ValueError(\"Arms are too less!\")\n",
    "        if (ndims<1):\n",
    "            raise ValueError(\"Dimension are too less!\")\n",
    "        self.narms = int(narms)\n",
    "        self.ndims = int(ndims)\n",
    "        self.B = np.eye(self.narms)\n",
    "        self.mu_cap = np.zeros(self.narms)\n",
    "        self.f = np.zeros(self.narms)\n",
    "        self.v = v\n",
    "        \n",
    "        \n",
    "    def play(self, tround, context):\n",
    "        if(self.narms*self.ndims != len(context)):\n",
    "            raise ValueError(\"Dimension mismatch\")\n",
    "        B_inv = np.linalg.inv(self.B)\n",
    "        mu_hat_t = np.random.multivariate_normal(self.mu_cap, np.dot(np.square(self.v), B_inv))\n",
    "        b_i_t = np.reshape(context,(self.narms,self.ndims))\n",
    "        b_i_t = np.array(b_i_t, dtype='float64')\n",
    "        est_value = b_i_t @ mu_hat_t\n",
    "        return np.random.choice(np.flatnonzero(est_value == est_value.max()))    \n",
    "\n",
    "    \n",
    "    def update(self, arm, reward, context):\n",
    "        b_a_t = context[self.ndims * arm : (self.ndims * arm) + self.ndims]\n",
    "        b_a_t = np.array(b_a_t, dtype='float64')\n",
    "        self.B += b_a_t @ b_a_t.T\n",
    "        self.f += np.dot(b_a_t,reward)\n",
    "        B_inv_new = np.linalg.inv(self.B)\n",
    "        self.mu_cap = B_inv_new @ self.f \n",
    "\n",
    "    "
   ]
  },
  {
   "cell_type": "code",
   "execution_count": null,
   "metadata": {},
   "outputs": [],
   "source": [
    "mab = LinThompson(10, 10, 1.0)\n",
    "results_LinThompson = offlineEvaluate(mab, arms, rewards, contexts, 800)\n",
    "print('LinThompson average reward', np.mean(results_LinThompson))"
   ]
  },
  {
   "cell_type": "markdown",
   "metadata": {},
   "source": [
    "## 6. Evaluation\n",
    "### 6.A."
   ]
  },
  {
   "cell_type": "code",
   "execution_count": null,
   "metadata": {
    "scrolled": false
   },
   "outputs": [],
   "source": [
    "def getCumSum(results):\n",
    "    cresults = np.zeros(len(results))\n",
    "    cresults[0] = results[0]\n",
    "    for i in range(len(results)-1):\n",
    "        cresults[i+1] = (cresults[i] * i + results[i+1])/(i+1)\n",
    "    return cresults\n",
    "\n",
    "cresults_EpsGreedy = getCumSum(results_EpsGreedy)\n",
    "cresults_UCB = getCumSum(results_UCB)\n",
    "cresults_BetaThompson = getCumSum(results_BetaThompson)\n",
    "cresults_LinUCB = getCumSum(results_LinUCB)\n",
    "cresults_LinThompson = getCumSum(results_LinThompson)\n",
    "    \n",
    "FIGURE_RESOLUTION = 128\n",
    "plt.rcParams['figure.dpi'] = FIGURE_RESOLUTION\n",
    "plt.plot(range(len(cresults_EpsGreedy)), cresults_EpsGreedy,label='EpsGreedy')\n",
    "plt.plot(range(len(cresults_UCB)), cresults_UCB,label='UCB')\n",
    "plt.plot(range(len(cresults_BetaThompson)), cresults_BetaThompson,label='BetaThompson')\n",
    "plt.plot(range(len(cresults_LinUCB)), cresults_LinUCB,label='LinUCB')\n",
    "plt.plot(range(len(cresults_LinThompson)), cresults_LinThompson,label='LinThompson')\n",
    "\n",
    "plt.legend()\n",
    "plt.show()"
   ]
  },
  {
   "cell_type": "markdown",
   "metadata": {},
   "source": [
    "### 6.B."
   ]
  },
  {
   "cell_type": "code",
   "execution_count": null,
   "metadata": {},
   "outputs": [],
   "source": [
    "\"\"\"\n",
    "One of the ways to optimise hyper parameters is by grid-search based method\n",
    "\"\"\"\n",
    "FIGURE_RESOLUTION = 256\n",
    "plt.rcParams['figure.dpi'] = FIGURE_RESOLUTION\n",
    "for alpha in np.arange(-2,2.1,0.5):\n",
    "    mab = LinUCB(10, 10, alpha)\n",
    "    results_LinUCB = offlineEvaluate(mab, arms, rewards, contexts, 8000)\n",
    "    cresults_LinUCB = np.zeros(len(results_LinUCB))\n",
    "    cresults_LinUCB[0] = results_LinUCB[0]\n",
    "    for i in range(len(results_LinUCB)-1):\n",
    "        cresults_LinUCB[i+1] = (cresults_LinUCB[i] * i + results_LinUCB[i+1])/(i+1)\n",
    "    plt.plot(range(len(results_LinUCB)), cresults_LinUCB,label='alpha='+str(alpha))\n",
    "\n",
    "plt.legend()\n",
    "plt.show()\n",
    "\n",
    "\"\"\"\n",
    "Overall the graphs indicate that for values of \n",
    "    alpha = 0, performs best but in the paper, the way alpha is defined, it is always greater than 1, so this behaviour\n",
    "    of alpha is deviating from the theory. It however means that on reaching 800 iterations, the true value of the parameters\n",
    "    reaches and the estimated value matches the true value.\n",
    "\"\"\""
   ]
  },
  {
   "cell_type": "code",
   "execution_count": null,
   "metadata": {
    "scrolled": false
   },
   "outputs": [],
   "source": [
    "FIGURE_RESOLUTION = 256\n",
    "plt.rcParams['figure.dpi'] = FIGURE_RESOLUTION\n",
    "for v in np.arange(1,30,3):\n",
    "    mab = LinThompson(10, 10, v)\n",
    "    results_LinThompson = offlineEvaluate(mab, arms, rewards, contexts, 800)\n",
    "    cresults_LinThompson = np.zeros(len(cresults_LinThompson))\n",
    "    cresults_LinThompson[0] = results_LinThompson[0]\n",
    "    for i in range(len(cresults_LinThompson)-1):\n",
    "        cresults_LinThompson[i+1] = (cresults_LinThompson[i] * i + results_LinThompson[i+1])/(i+1)\n",
    "    plt.plot(range(len(cresults_LinThompson)), cresults_LinThompson,label='v='+str(v))\n",
    "\n",
    "plt.legend()\n",
    "plt.show()\n",
    "\n",
    "\n",
    "\"\"\"\n",
    "Extremely high value such as 28 and extrenely low value such as 1 both underperforms\n",
    "The value of 'v' is higher in somewhat middle. \n",
    "\"\"\""
   ]
  },
  {
   "cell_type": "code",
   "execution_count": null,
   "metadata": {},
   "outputs": [],
   "source": []
  }
 ],
 "metadata": {
  "kernelspec": {
   "display_name": "Python 3",
   "language": "python",
   "name": "python3"
  },
  "language_info": {
   "codemirror_mode": {
    "name": "ipython",
    "version": 3
   },
   "file_extension": ".py",
   "mimetype": "text/x-python",
   "name": "python",
   "nbconvert_exporter": "python",
   "pygments_lexer": "ipython3",
   "version": "3.6.8"
  }
 },
 "nbformat": 4,
 "nbformat_minor": 2
}
